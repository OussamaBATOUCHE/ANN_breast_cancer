{
  "nbformat": 4,
  "nbformat_minor": 0,
  "metadata": {
    "colab": {
      "name": "Untitled0.ipynb",
      "provenance": [],
      "include_colab_link": true
    },
    "kernelspec": {
      "name": "python3",
      "display_name": "Python 3"
    },
    "accelerator": "GPU"
  },
  "cells": [
    {
      "cell_type": "markdown",
      "metadata": {
        "id": "view-in-github",
        "colab_type": "text"
      },
      "source": [
        "<a href=\"https://colab.research.google.com/github/OussamaBATOUCHE/ANN_breast_cancer/blob/master/ANNBC_TGPU.ipynb\" target=\"_parent\"><img src=\"https://colab.research.google.com/assets/colab-badge.svg\" alt=\"Open In Colab\"/></a>"
      ]
    },
    {
      "cell_type": "code",
      "metadata": {
        "id": "bnP3OBWAotwO",
        "colab_type": "code",
        "colab": {}
      },
      "source": [
        "import Data\n",
        "import Differential_Evolution\n",
        "from Differential_Evolution import Model\n",
        "import sys,datetime\n",
        "sys.stdout = open('TrainingsLog/train'+str(datetime.datetime.now().strftime(\"%Y%m%d%H%M\"))+\".log\", 'w+')\n",
        "import timeit\n",
        "\n",
        "def gpu():\n",
        "  with tf.device('/device:GPU:0'):\n",
        "    #--- PREPARE DATA ---------------------------------------------------------------------+\n",
        "    dataset = Data.preprocessing(\"dataset/haberman.data\",\"dataset/test_01.data\",0.8)\n",
        "\n",
        "    #--- META-HEURISTIQUE -----------------------------------------------------------------+\n",
        "    best_model = Differential_Evolution.minimize(dataset=dataset, popsize=10,maxiter=5)\n",
        "\n",
        "    #--- TRAIN & SAVE THE BEST MODEL ------------------------------------------------------+\n",
        "    Model.retrain_and_save(best_model,dataset,300)\n",
        "\n",
        "print('YOUR PROGRAM START ON GPU:')\n",
        "gpu_time = timeit.timeit('gpu()', number=1, setup=\"from __main__ import gpu\")\n",
        "print(\"---|[ GPU (s): \",datetime.timedelta(seconds=gpu_time),\" |]---\")\n",
        "print(\"[H:M:S]\",)"
      ],
      "execution_count": 0,
      "outputs": []
    }
  ]
}