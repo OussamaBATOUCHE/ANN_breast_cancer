{
  "nbformat": 4,
  "nbformat_minor": 0,
  "metadata": {
    "colab": {
      "name": "Copie de ANNBC_TGPU.ipynb",
      "provenance": [],
      "include_colab_link": true
    },
    "kernelspec": {
      "name": "python3",
      "display_name": "Python 3"
    },
    "accelerator": "GPU"
  },
  "cells": [
    {
      "cell_type": "markdown",
      "metadata": {
        "id": "view-in-github",
        "colab_type": "text"
      },
      "source": [
        "<a href=\"https://colab.research.google.com/github/OussamaBATOUCHE/ANN_breast_cancer/blob/master/ANNBC_TGPU.ipynb\" target=\"_parent\"><img src=\"https://colab.research.google.com/assets/colab-badge.svg\" alt=\"Open In Colab\"/></a>"
      ]
    },
    {
      "cell_type": "code",
      "metadata": {
        "id": "zkM06hPdqR_d",
        "colab_type": "code",
        "colab": {
          "base_uri": "https://localhost:8080/",
          "height": 136
        },
        "outputId": "efcf8add-fa2e-4b8f-a11f-141a096efd50"
      },
      "source": [
        "!git clone https://github.com/OussamaBATOUCHE/ANN_breast_cancer.git"
      ],
      "execution_count": 2,
      "outputs": [
        {
          "output_type": "stream",
          "text": [
            "Cloning into 'ANN_breast_cancer'...\n",
            "remote: Enumerating objects: 92, done.\u001b[K\n",
            "remote: Counting objects: 100% (92/92), done.\u001b[K\n",
            "remote: Compressing objects: 100% (72/72), done.\u001b[K\n",
            "remote: Total 92 (delta 34), reused 56 (delta 16), pack-reused 0\u001b[K\n",
            "Unpacking objects: 100% (92/92), done.\n",
            "fatal: destination path 'ANN_breast_cancer' already exists and is not an empty directory.\n"
          ],
          "name": "stdout"
        }
      ]
    },
    {
      "cell_type": "code",
      "metadata": {
        "id": "KLo_FoV5rSxy",
        "colab_type": "code",
        "colab": {
          "base_uri": "https://localhost:8080/",
          "height": 51
        },
        "outputId": "8a9405f7-f2b7-45b4-aab0-be2914747dae"
      },
      "source": [
        "%cd ANN_breast_cancer\n",
        "%tensorflow_version 2.x\n",
        "import tensorflow as tf"
      ],
      "execution_count": 3,
      "outputs": [
        {
          "output_type": "stream",
          "text": [
            "/content/ANN_breast_cancer\n",
            "TensorFlow 2.x selected.\n"
          ],
          "name": "stdout"
        }
      ]
    },
    {
      "cell_type": "code",
      "metadata": {
        "id": "bnP3OBWAotwO",
        "colab_type": "code",
        "colab": {}
      },
      "source": [
        "import Data\n",
        "import Differential_Evolution\n",
        "from Differential_Evolution import Model\n",
        "import sys,datetime\n",
        "sys.stdout = open('TrainingsLog/train'+str(datetime.datetime.now().strftime(\"%Y%m%d%H%M\"))+\".log\", 'w+')\n",
        "import timeit\n",
        "\n",
        "def gpu():\n",
        "  with tf.device('/device:GPU:0'):\n",
        "    #--- PREPARE DATA ---------------------------------------------------------------------+\n",
        "    dataset = Data.preprocessing(\"dataset/haberman.data\",\"dataset/test_01.data\",0.8)\n",
        "\n",
        "    #--- META-HEURISTIQUE -----------------------------------------------------------------+\n",
        "    best_model = Differential_Evolution.minimize(dataset=dataset, popsize=10,maxiter=5)\n",
        "\n",
        "    #--- TRAIN & SAVE THE BEST MODEL ------------------------------------------------------+\n",
        "    Model.retrain_and_save(best_model,dataset,300)\n",
        "\n",
        "print('YOUR PROGRAM START ON GPU:')\n",
        "gpu_time = timeit.timeit('gpu()', number=1, setup=\"from __main__ import gpu\")\n",
        "print(\"---|[ GPU (s): \",datetime.timedelta(seconds=gpu_time),\" |]---\")"
      ],
      "execution_count": 0,
      "outputs": []
    }
  ]
}